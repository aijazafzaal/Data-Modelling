{
 "cells": [
  {
   "cell_type": "code",
   "execution_count": 3,
   "id": "0bb72cc8",
   "metadata": {},
   "outputs": [],
   "source": [
    "import psycopg2"
   ]
  },
  {
   "cell_type": "markdown",
   "id": "c0f1282e",
   "metadata": {},
   "source": [
    "#  Create a connection to the database"
   ]
  },
  {
   "cell_type": "code",
   "execution_count": 6,
   "id": "0e18783b",
   "metadata": {},
   "outputs": [],
   "source": [
    "try:\n",
    "    conn = psycopg2.connect(\"host=127.0.0.1 dbname=postgres user=postgres password=password\")\n",
    "except psycopg2.Error as e:\n",
    "    print(\"Error: could not make connection to the Postgres database\")\n",
    "    print(e)"
   ]
  },
  {
   "cell_type": "markdown",
   "id": "b5bb1010",
   "metadata": {},
   "source": [
    "# Use the conncetion to get a cursor that can be used to execute queries"
   ]
  },
  {
   "cell_type": "code",
   "execution_count": 8,
   "id": "4e2ac9c8",
   "metadata": {},
   "outputs": [],
   "source": [
    "try:\n",
    "    cur = conn.cursor()\n",
    "except psycopg2.Error as e:\n",
    "    print(\"Error: Could not get curser to the Database\")\n",
    "    print(e)"
   ]
  },
  {
   "cell_type": "markdown",
   "id": "918e53e8",
   "metadata": {},
   "source": [
    "# Set automatic commit to be true so that each action is commited without having to call conn.commit() after each command"
   ]
  },
  {
   "cell_type": "code",
   "execution_count": 10,
   "id": "35452a6b",
   "metadata": {},
   "outputs": [],
   "source": [
    "conn.set_session(autocommit=True)"
   ]
  },
  {
   "cell_type": "markdown",
   "id": "4b959167",
   "metadata": {},
   "source": [
    "# Create a database to work in\n"
   ]
  },
  {
   "cell_type": "code",
   "execution_count": 11,
   "id": "7e586017",
   "metadata": {},
   "outputs": [],
   "source": [
    "try:\n",
    "    cur.execute(\"Create database myfirstdb\")\n",
    "except psycopg2.Error as e:\n",
    "    print(e)"
   ]
  },
  {
   "cell_type": "markdown",
   "id": "8ce026df",
   "metadata": {},
   "source": [
    "# Add the database name in the connect statement. Let's close our connection to the default database, reconnect to the Udacity database and get a new cursor"
   ]
  },
  {
   "cell_type": "code",
   "execution_count": 12,
   "id": "c0e56329",
   "metadata": {},
   "outputs": [],
   "source": [
    "try:\n",
    "    conn.close()\n",
    "except psycopg2.Error as e:\n",
    "    print(e)\n",
    "    \n",
    "try:\n",
    "    conn= psycopg2.connect(\"host=127.0.0.1 dbname=myfirstdb user=postgres password=password\")\n",
    "except psycopg2.Error as e:\n",
    "    print(\"Error: Could not make connection to the Postgres database\")\n",
    "    print(e)\n",
    "    \n",
    "try:\n",
    "    cur= conn.cursor()\n",
    "except psycopg2.Error as e:\n",
    "    print(\"Error: Could not get curser to the Database\")\n",
    "    print(e)\n",
    "    \n",
    "conn.set_session(autocommit=True)"
   ]
  },
  {
   "cell_type": "markdown",
   "id": "faa9b756",
   "metadata": {},
   "source": [
    "Create table for students which includes following columns:\n",
    "    student_id\n",
    "    name\n",
    "    age\n",
    "    gender\n",
    "    subject\n",
    "    marks"
   ]
  },
  {
   "cell_type": "code",
   "execution_count": 16,
   "id": "4ab342fc",
   "metadata": {},
   "outputs": [],
   "source": [
    "try:\n",
    "    cur.execute(\"CREATE TABLE IF NOT EXISTS students (student_id int, name varchar,\\\n",
    "    age int, gender varchar, subject varchar, marks int);\")\n",
    "except psycopg2.Error as e:\n",
    "    print(\"Error: Issue creating table\")\n",
    "    print(e)"
   ]
  },
  {
   "cell_type": "markdown",
   "id": "ce5751fc",
   "metadata": {},
   "source": [
    "Insert the following two rows in the table\n",
    "first row: 1, \"Amit\", 23, \"Male\", \"Python\", 70\n",
    "Second row: 2, \"Diya\", 21, \"Female\", \"Python\", 89"
   ]
  },
  {
   "cell_type": "code",
   "execution_count": 17,
   "id": "0e2788cc",
   "metadata": {},
   "outputs": [],
   "source": [
    "try:\n",
    "    cur.execute(\"INSERT INTO students (student_id, name, age, gender, subject, marks) \\\n",
    "                VALUES (%s, %s, %s, %s, %s, %s)\", \\\n",
    "               (1, \"Amit\", 23, \"Male\", \"Python\", 70))\n",
    "except psycopg2.Error as e:\n",
    "    print(\"Error: Inserting Rows\")\n",
    "    print(e)\n",
    "    \n",
    "try:\n",
    "    cur.execute(\"INSERT INTO students (student_id, name, age, gender, subject, marks) \\\n",
    "                VALUES (%s, %s, %s, %s, %s, %s)\", \\\n",
    "               (2, \"Diya\", 21, \"Female\", \"Python\", 80))\n",
    "except psycopg2.Error as e:\n",
    "    print(\"Error:Inserting rows\")\n",
    "    print(e)"
   ]
  },
  {
   "cell_type": "markdown",
   "id": "0f7456d6",
   "metadata": {},
   "source": [
    "Validate that data was inserted into the table"
   ]
  },
  {
   "cell_type": "code",
   "execution_count": 18,
   "id": "52e3a835",
   "metadata": {},
   "outputs": [
    {
     "name": "stdout",
     "output_type": "stream",
     "text": [
      "(1, 'Amit', 23, 'Male', 'Python', 70)\n",
      "(2, 'Diya', 21, 'Female', 'Python', 80)\n"
     ]
    }
   ],
   "source": [
    "try:\n",
    "    cur.execute(\"SELECT * FROM students;\")\n",
    "except psycopg2.Error as e:\n",
    "    print(\"Error: select *\")\n",
    "    print(e)\n",
    "    \n",
    "row = cur.fetchone()\n",
    "while row:\n",
    "    print(row)\n",
    "    row=cur.fetchone()\n",
    "    "
   ]
  },
  {
   "cell_type": "markdown",
   "id": "eb1fe2df",
   "metadata": {},
   "source": [
    "# Close your cursor and connection"
   ]
  },
  {
   "cell_type": "code",
   "execution_count": null,
   "id": "8fc04a17",
   "metadata": {},
   "outputs": [],
   "source": [
    "cur.close()\n",
    "conn.close()"
   ]
  }
 ],
 "metadata": {
  "kernelspec": {
   "display_name": "Python 3 (ipykernel)",
   "language": "python",
   "name": "python3"
  },
  "language_info": {
   "codemirror_mode": {
    "name": "ipython",
    "version": 3
   },
   "file_extension": ".py",
   "mimetype": "text/x-python",
   "name": "python",
   "nbconvert_exporter": "python",
   "pygments_lexer": "ipython3",
   "version": "3.9.13"
  }
 },
 "nbformat": 4,
 "nbformat_minor": 5
}
